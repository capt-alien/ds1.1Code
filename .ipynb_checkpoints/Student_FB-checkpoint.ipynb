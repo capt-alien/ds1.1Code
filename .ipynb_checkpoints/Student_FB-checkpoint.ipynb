{
 "cells": [
  {
   "cell_type": "code",
   "execution_count": 7,
   "metadata": {},
   "outputs": [],
   "source": [
    "import glob, os\n",
    "import pandas as pd"
   ]
  },
  {
   "cell_type": "code",
   "execution_count": 9,
   "metadata": {},
   "outputs": [],
   "source": [
    "#looks like we can open file with spaces in name\n",
    "df=pd.read_csv(\"datasets/FB/2016/Anon Week 1 Feedback - LA.csv\", index_col=0)"
   ]
  },
  {
   "cell_type": "code",
   "execution_count": 18,
   "metadata": {},
   "outputs": [],
   "source": [
    "relative_directory_path = \"./datasets/FB/2016/\"\n",
    "files_parent_path = \"Anon*.csv\""
   ]
  },
  {
   "cell_type": "code",
   "execution_count": 35,
   "metadata": {},
   "outputs": [],
   "source": [
    "FILENAMES = glob.glob(relative_directory_path + files_parent_path)"
   ]
  },
  {
   "cell_type": "markdown",
   "metadata": {},
   "source": [
    "import glob as glob\n",
    "import pandas as pd\n",
    "\n",
    "df = pd.read_csv(\"datasets/FB/2017/SV_2017.csv\", index_col=0)\n",
    "df"
   ]
  },
  {
   "cell_type": "code",
   "execution_count": 23,
   "metadata": {},
   "outputs": [],
   "source": [
    "# path = r'/datasets/FB/2016/'                     # use your path\n",
    "# all_files = glob.glob(os.path.join(path, \"*.csv\"))     # advisable to use os.path.join as this makes concatenation OS independent\n",
    "# all_files\n",
    "# df_from_each_file = (pd.read_csv(f) for f in all_files)\n",
    "# concatenated_df   = pd.concat(df_from_each_file, ignore_index=True)\n",
    "# # doesn't create a list, nor does it append to one\n"
   ]
  },
  {
   "cell_type": "code",
   "execution_count": 36,
   "metadata": {},
   "outputs": [],
   "source": [
    "dataframes = dict()\n",
    "\n",
    "# iterates through glob object of filenames and creates tables for each csv within a dictionary\n",
    "for index, file in enumerate(FILENAMES):\n",
    "    dataframes[index] = pd.read_csv(file)"
   ]
  },
  {
   "cell_type": "code",
   "execution_count": 30,
   "metadata": {},
   "outputs": [
    {
     "data": {
      "text/html": [
       "<div>\n",
       "<style scoped>\n",
       "    .dataframe tbody tr th:only-of-type {\n",
       "        vertical-align: middle;\n",
       "    }\n",
       "\n",
       "    .dataframe tbody tr th {\n",
       "        vertical-align: top;\n",
       "    }\n",
       "\n",
       "    .dataframe thead th {\n",
       "        text-align: right;\n",
       "    }\n",
       "</style>\n",
       "<table border=\"1\" class=\"dataframe\">\n",
       "  <thead>\n",
       "    <tr style=\"text-align: right;\">\n",
       "      <th></th>\n",
       "      <th>Timestamp</th>\n",
       "      <th>What track are you in?</th>\n",
       "      <th>How would you rate your overall satisfaction with the Summer Academy this week?</th>\n",
       "      <th>How well is the schedule paced?</th>\n",
       "    </tr>\n",
       "  </thead>\n",
       "  <tbody>\n",
       "    <tr>\n",
       "      <th>0</th>\n",
       "      <td>8/5/2016 11:22:50</td>\n",
       "      <td>Intro</td>\n",
       "      <td>3</td>\n",
       "      <td>2</td>\n",
       "    </tr>\n",
       "    <tr>\n",
       "      <th>1</th>\n",
       "      <td>8/5/2016 11:23:13</td>\n",
       "      <td>Intro</td>\n",
       "      <td>5</td>\n",
       "      <td>3</td>\n",
       "    </tr>\n",
       "    <tr>\n",
       "      <th>2</th>\n",
       "      <td>8/5/2016 11:24:20</td>\n",
       "      <td>Games</td>\n",
       "      <td>4</td>\n",
       "      <td>2</td>\n",
       "    </tr>\n",
       "    <tr>\n",
       "      <th>3</th>\n",
       "      <td>8/5/2016 11:29:26</td>\n",
       "      <td>Intro</td>\n",
       "      <td>4</td>\n",
       "      <td>3</td>\n",
       "    </tr>\n",
       "    <tr>\n",
       "      <th>4</th>\n",
       "      <td>8/5/2016 11:31:08</td>\n",
       "      <td>Games</td>\n",
       "      <td>4</td>\n",
       "      <td>3</td>\n",
       "    </tr>\n",
       "    <tr>\n",
       "      <th>5</th>\n",
       "      <td>8/5/2016 11:57:53</td>\n",
       "      <td>Games</td>\n",
       "      <td>5</td>\n",
       "      <td>3</td>\n",
       "    </tr>\n",
       "    <tr>\n",
       "      <th>6</th>\n",
       "      <td>8/5/2016 13:23:30</td>\n",
       "      <td>Intro</td>\n",
       "      <td>4</td>\n",
       "      <td>4</td>\n",
       "    </tr>\n",
       "    <tr>\n",
       "      <th>7</th>\n",
       "      <td>8/5/2016 13:58:27</td>\n",
       "      <td>Games</td>\n",
       "      <td>5</td>\n",
       "      <td>3</td>\n",
       "    </tr>\n",
       "    <tr>\n",
       "      <th>8</th>\n",
       "      <td>8/5/2016 14:00:14</td>\n",
       "      <td>Games</td>\n",
       "      <td>5</td>\n",
       "      <td>3</td>\n",
       "    </tr>\n",
       "  </tbody>\n",
       "</table>\n",
       "</div>"
      ],
      "text/plain": [
       "           Timestamp What track are you in?  \\\n",
       "0  8/5/2016 11:22:50                  Intro   \n",
       "1  8/5/2016 11:23:13                  Intro   \n",
       "2  8/5/2016 11:24:20                  Games   \n",
       "3  8/5/2016 11:29:26                  Intro   \n",
       "4  8/5/2016 11:31:08                  Games   \n",
       "5  8/5/2016 11:57:53                  Games   \n",
       "6  8/5/2016 13:23:30                  Intro   \n",
       "7  8/5/2016 13:58:27                  Games   \n",
       "8  8/5/2016 14:00:14                  Games   \n",
       "\n",
       "   How would you rate your overall satisfaction with the Summer Academy this week?  \\\n",
       "0                                                  3                                 \n",
       "1                                                  5                                 \n",
       "2                                                  4                                 \n",
       "3                                                  4                                 \n",
       "4                                                  4                                 \n",
       "5                                                  5                                 \n",
       "6                                                  4                                 \n",
       "7                                                  5                                 \n",
       "8                                                  5                                 \n",
       "\n",
       "   How well is the schedule paced?  \n",
       "0                                2  \n",
       "1                                3  \n",
       "2                                2  \n",
       "3                                3  \n",
       "4                                3  \n",
       "5                                3  \n",
       "6                                4  \n",
       "7                                3  \n",
       "8                                3  "
      ]
     },
     "execution_count": 30,
     "metadata": {},
     "output_type": "execute_result"
    }
   ],
   "source": [
    "dataframes[3]"
   ]
  },
  {
   "cell_type": "code",
   "execution_count": 37,
   "metadata": {},
   "outputs": [
    {
     "name": "stdout",
     "output_type": "stream",
     "text": [
      "0 :  ./datasets/FB/2016/Anon Week 7 Feedback - Taipei.csv\n",
      "1 :  ./datasets/FB/2016/Anon Week 6 Feedback - Tokyo.csv\n",
      "2 :  ./datasets/FB/2016/Anon Week 1 Feedback - Singapore.csv\n",
      "3 :  ./datasets/FB/2016/Anon Week 7 Feedback - LA.csv\n",
      "4 :  ./datasets/FB/2016/Anon Week 4 Feedback - SF.csv\n",
      "5 :  ./datasets/FB/2016/Anon Week 5 Feedback - SV.csv\n",
      "6 :  ./datasets/FB/2016/Anon Week 4 Feedback - SG.csv\n",
      "7 :  ./datasets/FB/2016/Anon Week 6 Feedback - NY.csv\n",
      "8 :  ./datasets/FB/2016/Anon Week 5 Feedback - HK.csv\n",
      "9 :  ./datasets/FB/2016/Anon Week 1 Feedback - SF.csv\n",
      "10 :  ./datasets/FB/2016/Anon Week 2 Feedback - LA.csv\n",
      "11 :  ./datasets/FB/2016/Anon Week 6 Feedback - Taipei.csv\n",
      "12 :  ./datasets/FB/2016/Anon Week 3 Feedback - NY.csv\n",
      "13 :  ./datasets/FB/2016/Anon Week 6 Feedback - LA.csv\n",
      "14 :  ./datasets/FB/2016/Anon Week 5 Feedback - SF.csv\n",
      "15 :  ./datasets/FB/2016/Anon Week 5 Feedback - SG.csv\n",
      "16 :  ./datasets/FB/2016/Anon Week 4 Feedback - SV.csv\n",
      "17 :  ./datasets/FB/2016/Anon Week 7 Feedback - NY.csv\n",
      "18 :  ./datasets/FB/2016/Anon Week 3 Feedback - LA.csv\n",
      "19 :  ./datasets/FB/2016/Anon Week 2 Feedback - NY.csv\n",
      "20 :  ./datasets/FB/2016/Anon Week 1 Feedback - SV.csv\n",
      "21 :  ./datasets/FB/2016/Anon Week 5 Feedback - LA.csv\n",
      "22 :  ./datasets/FB/2016/Anon Week 6 Feedback - SF.csv\n",
      "23 :  ./datasets/FB/2016/Anon Week 6 Feedback - SG.csv\n",
      "24 :  ./datasets/FB/2016/Anon Week 7 Feedback - SV.csv\n",
      "25 :  ./datasets/FB/2016/Anon Week 4 Feedback - NY.csv\n",
      "26 :  ./datasets/FB/2016/Anon Week 3 Feedback - SF.csv\n",
      "27 :  ./datasets/FB/2016/Anon Week 1 Feedback - NY.csv\n",
      "28 :  ./datasets/FB/2016/Anon Week 2 Feedback - SV.csv\n",
      "29 :  ./datasets/FB/2016/Anon Week 3 Feedback - SG.csv\n",
      "30 :  ./datasets/FB/2016/Anon Week 4 Feedback - LA.csv\n",
      "31 :  ./datasets/FB/2016/Anon Week 7 Feedback - SF.csv\n",
      "32 :  ./datasets/FB/2016/Anon Week 6 Feedback - SV.csv\n",
      "33 :  ./datasets/FB/2016/Anon Week 6 Feedback - HK.csv\n",
      "34 :  ./datasets/FB/2016/Anon Week 5 Feedback - NY.csv\n",
      "35 :  ./datasets/FB/2016/Anon Week 2 Feedback - SF.csv\n",
      "36 :  ./datasets/FB/2016/Anon Week 1 Feedback - LA.csv\n",
      "37 :  ./datasets/FB/2016/Anon Week 2 Feedback - SG.csv\n",
      "38 :  ./datasets/FB/2016/Anon Week 3 Feedback - SV.csv\n"
     ]
    }
   ],
   "source": [
    "#opening multiple files and fitting them into one dDF\n",
    "\n",
    "\n",
    "#print statement\n",
    "for index, filename in enumerate(FILENAMES):\n",
    "    print(index, \": \", filename)\n",
    "#     dataframes[index] = pd.read_csv(file)\n",
    "\n"
   ]
  },
  {
   "cell_type": "code",
   "execution_count": 38,
   "metadata": {},
   "outputs": [],
   "source": []
  },
  {
   "cell_type": "code",
   "execution_count": null,
   "metadata": {},
   "outputs": [],
   "source": []
  },
  {
   "cell_type": "code",
   "execution_count": null,
   "metadata": {},
   "outputs": [],
   "source": []
  },
  {
   "cell_type": "code",
   "execution_count": null,
   "metadata": {},
   "outputs": [],
   "source": []
  },
  {
   "cell_type": "code",
   "execution_count": null,
   "metadata": {},
   "outputs": [],
   "source": []
  },
  {
   "cell_type": "code",
   "execution_count": null,
   "metadata": {},
   "outputs": [],
   "source": []
  },
  {
   "cell_type": "code",
   "execution_count": null,
   "metadata": {},
   "outputs": [],
   "source": [
    "#Save that DF to a .csv\n"
   ]
  }
 ],
 "metadata": {
  "kernelspec": {
   "display_name": "Python 3",
   "language": "python",
   "name": "python3"
  },
  "language_info": {
   "codemirror_mode": {
    "name": "ipython",
    "version": 3
   },
   "file_extension": ".py",
   "mimetype": "text/x-python",
   "name": "python",
   "nbconvert_exporter": "python",
   "pygments_lexer": "ipython3",
   "version": "3.7.1"
  }
 },
 "nbformat": 4,
 "nbformat_minor": 2
}
