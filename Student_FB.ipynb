{
 "cells": [
  {
   "cell_type": "code",
   "execution_count": 7,
   "metadata": {},
   "outputs": [],
   "source": [
    "import glob, os\n",
    "import pandas as pd"
   ]
  },
  {
   "cell_type": "code",
   "execution_count": 9,
   "metadata": {},
   "outputs": [],
   "source": [
    "#looks like we can open file with spaces in name\n",
    "df=pd.read_csv(\"datasets/FB/2016/Anon Week 1 Feedback - LA.csv\", index_col=0)"
   ]
  },
  {
   "cell_type": "code",
   "execution_count": 18,
   "metadata": {},
   "outputs": [],
   "source": [
    "relative_directory_path = \"./datasets/FB/2016/\"\n",
    "files_parent_path = \"Anon*.csv\""
   ]
  },
  {
   "cell_type": "code",
   "execution_count": 35,
   "metadata": {},
   "outputs": [],
   "source": [
    "FILENAMES = glob.glob(relative_directory_path + files_parent_path)"
   ]
  },
  {
   "cell_type": "markdown",
   "metadata": {},
   "source": [
    "import glob as glob\n",
    "import pandas as pd\n",
    "\n",
    "df = pd.read_csv(\"datasets/FB/2017/SV_2017.csv\", index_col=0)\n",
    "df"
   ]
  },
  {
   "cell_type": "code",
   "execution_count": 23,
   "metadata": {},
   "outputs": [],
   "source": [
    "# path = r'/datasets/FB/2016/'                     # use your path\n",
    "# all_files = glob.glob(os.path.join(path, \"*.csv\"))     # advisable to use os.path.join as this makes concatenation OS independent\n",
    "# all_files\n",
    "# df_from_each_file = (pd.read_csv(f) for f in all_files)\n",
    "# concatenated_df   = pd.concat(df_from_each_file, ignore_index=True)\n",
    "# # doesn't create a list, nor does it append to one\n"
   ]
  },
  {
   "cell_type": "code",
   "execution_count": 52,
   "metadata": {},
   "outputs": [],
   "source": [
    "# dataframes = dict()\n",
    "\n",
    "# iterates through glob object of filenames and creates tables for each csv within a dictionary\n",
    "# for index, file in enumerate(FILENAMES):\n",
    "#     dataframes[index] = pd.read_csv(file)"
   ]
  },
  {
   "cell_type": "code",
   "execution_count": 53,
   "metadata": {},
   "outputs": [],
   "source": [
    "# dataframes[3]"
   ]
  },
  {
   "cell_type": "code",
   "execution_count": 37,
   "metadata": {},
   "outputs": [
    {
     "name": "stdout",
     "output_type": "stream",
     "text": [
      "0 :  ./datasets/FB/2016/Anon Week 7 Feedback - Taipei.csv\n",
      "1 :  ./datasets/FB/2016/Anon Week 6 Feedback - Tokyo.csv\n",
      "2 :  ./datasets/FB/2016/Anon Week 1 Feedback - Singapore.csv\n",
      "3 :  ./datasets/FB/2016/Anon Week 7 Feedback - LA.csv\n",
      "4 :  ./datasets/FB/2016/Anon Week 4 Feedback - SF.csv\n",
      "5 :  ./datasets/FB/2016/Anon Week 5 Feedback - SV.csv\n",
      "6 :  ./datasets/FB/2016/Anon Week 4 Feedback - SG.csv\n",
      "7 :  ./datasets/FB/2016/Anon Week 6 Feedback - NY.csv\n",
      "8 :  ./datasets/FB/2016/Anon Week 5 Feedback - HK.csv\n",
      "9 :  ./datasets/FB/2016/Anon Week 1 Feedback - SF.csv\n",
      "10 :  ./datasets/FB/2016/Anon Week 2 Feedback - LA.csv\n",
      "11 :  ./datasets/FB/2016/Anon Week 6 Feedback - Taipei.csv\n",
      "12 :  ./datasets/FB/2016/Anon Week 3 Feedback - NY.csv\n",
      "13 :  ./datasets/FB/2016/Anon Week 6 Feedback - LA.csv\n",
      "14 :  ./datasets/FB/2016/Anon Week 5 Feedback - SF.csv\n",
      "15 :  ./datasets/FB/2016/Anon Week 5 Feedback - SG.csv\n",
      "16 :  ./datasets/FB/2016/Anon Week 4 Feedback - SV.csv\n",
      "17 :  ./datasets/FB/2016/Anon Week 7 Feedback - NY.csv\n",
      "18 :  ./datasets/FB/2016/Anon Week 3 Feedback - LA.csv\n",
      "19 :  ./datasets/FB/2016/Anon Week 2 Feedback - NY.csv\n",
      "20 :  ./datasets/FB/2016/Anon Week 1 Feedback - SV.csv\n",
      "21 :  ./datasets/FB/2016/Anon Week 5 Feedback - LA.csv\n",
      "22 :  ./datasets/FB/2016/Anon Week 6 Feedback - SF.csv\n",
      "23 :  ./datasets/FB/2016/Anon Week 6 Feedback - SG.csv\n",
      "24 :  ./datasets/FB/2016/Anon Week 7 Feedback - SV.csv\n",
      "25 :  ./datasets/FB/2016/Anon Week 4 Feedback - NY.csv\n",
      "26 :  ./datasets/FB/2016/Anon Week 3 Feedback - SF.csv\n",
      "27 :  ./datasets/FB/2016/Anon Week 1 Feedback - NY.csv\n",
      "28 :  ./datasets/FB/2016/Anon Week 2 Feedback - SV.csv\n",
      "29 :  ./datasets/FB/2016/Anon Week 3 Feedback - SG.csv\n",
      "30 :  ./datasets/FB/2016/Anon Week 4 Feedback - LA.csv\n",
      "31 :  ./datasets/FB/2016/Anon Week 7 Feedback - SF.csv\n",
      "32 :  ./datasets/FB/2016/Anon Week 6 Feedback - SV.csv\n",
      "33 :  ./datasets/FB/2016/Anon Week 6 Feedback - HK.csv\n",
      "34 :  ./datasets/FB/2016/Anon Week 5 Feedback - NY.csv\n",
      "35 :  ./datasets/FB/2016/Anon Week 2 Feedback - SF.csv\n",
      "36 :  ./datasets/FB/2016/Anon Week 1 Feedback - LA.csv\n",
      "37 :  ./datasets/FB/2016/Anon Week 2 Feedback - SG.csv\n",
      "38 :  ./datasets/FB/2016/Anon Week 3 Feedback - SV.csv\n"
     ]
    }
   ],
   "source": [
    "#opening multiple files and fitting them into one dDF\n",
    "\n",
    "\n",
    "#print statement\n",
    "for index, filename in enumerate(FILENAMES):\n",
    "    print(index, \": \", filename)\n",
    "#     dataframes[index] = pd.read_csv(file)\n",
    "\n"
   ]
  },
  {
   "cell_type": "code",
   "execution_count": 47,
   "metadata": {},
   "outputs": [
    {
     "data": {
      "text/plain": [
       "'SV'"
      ]
     },
     "execution_count": 47,
     "metadata": {},
     "output_type": "execute_result"
    }
   ],
   "source": [
    "# assigning all files to single file\n",
    "# DON'T RUN AGAIN:\n",
    "\n",
    "for file in FILENAMES:\n",
    "    # grab important data components from each filename\n",
    "    components = file.split(\" \")\n",
    "    week_num, location = components[2], components[5].split(\".\")[0]\n",
    "    \n",
    "    # assign new df field based on components\n",
    "    os.rename(file, \"{}_{}_data{}{}\".format(components[1], components[2], components[4], components[5]))\n",
    "    \n",
    "location"
   ]
  },
  {
   "cell_type": "code",
   "execution_count": null,
   "metadata": {},
   "outputs": [],
   "source": [
    "# Create a dictionary to map over locations (initials) and convert them to locations (text)\n",
    "\n",
    "{\n",
    "    \"SV\": \"Sunnyvale\"\n",
    "}"
   ]
  },
  {
   "cell_type": "code",
   "execution_count": 49,
   "metadata": {},
   "outputs": [
    {
     "data": {
      "text/plain": [
       "'./datasets/FB/2016/Anon Week 3 Feedback - SV.csv'"
      ]
     },
     "execution_count": 49,
     "metadata": {},
     "output_type": "execute_result"
    }
   ],
   "source": [
    "file"
   ]
  },
  {
   "cell_type": "code",
   "execution_count": 59,
   "metadata": {},
   "outputs": [],
   "source": [
    "# DON'T RUN AGAIN:\n",
    "# Changes Week 8 Outlier file name\n",
    "week_8_file = \"Week 8 Feedback (2016, incomplete) - results.csv\"\n",
    "\n",
    "\n",
    "os.rename(relative_directory_path + week_8_file, relative_directory_path + \"Week_8_data-locs\")"
   ]
  },
  {
   "cell_type": "code",
   "execution_count": null,
   "metadata": {},
   "outputs": [],
   "source": [
    "#######\n",
    "## TODO:\n",
    "## Create DF that contains all possible header column names and append all dataframes to it\n",
    "## NOTE: Columns will mismatch and there will be many NaNs, but all data should be conserved\n",
    "#######"
   ]
  },
  {
   "cell_type": "code",
   "execution_count": null,
   "metadata": {},
   "outputs": [],
   "source": [
    "#Save that DF to a .csv\n"
   ]
  }
 ],
 "metadata": {
  "kernelspec": {
   "display_name": "Python 3",
   "language": "python",
   "name": "python3"
  },
  "language_info": {
   "codemirror_mode": {
    "name": "ipython",
    "version": 3
   },
   "file_extension": ".py",
   "mimetype": "text/x-python",
   "name": "python",
   "nbconvert_exporter": "python",
   "pygments_lexer": "ipython3",
   "version": "3.7.1"
  }
 },
 "nbformat": 4,
 "nbformat_minor": 2
}
