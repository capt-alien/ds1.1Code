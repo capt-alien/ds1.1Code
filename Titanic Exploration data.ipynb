{
 "cells": [
  {
   "cell_type": "markdown",
   "metadata": {},
   "source": [
    "#Open CS\n",
    "#create list\n",
    "#run loop in if statement to count all female survivors\n",
    "Print results"
   ]
  },
  {
   "cell_type": "code",
   "execution_count": 1,
   "metadata": {},
   "outputs": [],
   "source": [
    "import matplotlib.pyplot as plt"
   ]
  },
  {
   "cell_type": "code",
   "execution_count": 2,
   "metadata": {},
   "outputs": [
    {
     "name": "stdout",
     "output_type": "stream",
     "text": [
      "233\n"
     ]
    }
   ],
   "source": [
    "import csv\n",
    "\n",
    "with open('datasets/titanic.csv')as csv_file:\n",
    "    csv_reader = csv.reader(csv_file, delimiter= ',')\n",
    "    female_survivor = 0\n",
    "    \n",
    "    #itterate over the rows and count surviving women\n",
    "    for row in csv_reader:\n",
    "        if row[4] =='female':\n",
    "            female_survivor += int(row[1])\n",
    "            \n",
    "    #print results\n",
    "    print(female_survivor)\n",
    "            \n",
    "        \n"
   ]
  },
  {
   "cell_type": "code",
   "execution_count": 3,
   "metadata": {},
   "outputs": [],
   "source": [
    "#USing Pandas\n",
    "import pandas as pd\n",
    "\n",
    "#DF == Dataframe\n",
    "df = pd.read_csv(\"datasets/titanic.csv\")"
   ]
  },
  {
   "cell_type": "code",
   "execution_count": 4,
   "metadata": {},
   "outputs": [
    {
     "ename": "FileNotFoundError",
     "evalue": "[Errno 2] No such file or directory: 'titanic.csv'",
     "output_type": "error",
     "traceback": [
      "\u001b[0;31m---------------------------------------------------------------------------\u001b[0m",
      "\u001b[0;31mFileNotFoundError\u001b[0m                         Traceback (most recent call last)",
      "\u001b[0;32m<ipython-input-4-655e3b200484>\u001b[0m in \u001b[0;36m<module>\u001b[0;34m\u001b[0m\n\u001b[1;32m      1\u001b[0m \u001b[0;31m##ratio of dead men in 1st class\u001b[0m\u001b[0;34m\u001b[0m\u001b[0;34m\u001b[0m\u001b[0;34m\u001b[0m\u001b[0m\n\u001b[1;32m      2\u001b[0m \u001b[0;34m\u001b[0m\u001b[0m\n\u001b[0;32m----> 3\u001b[0;31m \u001b[0;32mwith\u001b[0m \u001b[0mopen\u001b[0m\u001b[0;34m(\u001b[0m\u001b[0;34m'titanic.csv'\u001b[0m\u001b[0;34m)\u001b[0m\u001b[0;32mas\u001b[0m \u001b[0mcsv_file\u001b[0m\u001b[0;34m:\u001b[0m\u001b[0;34m\u001b[0m\u001b[0;34m\u001b[0m\u001b[0m\n\u001b[0m\u001b[1;32m      4\u001b[0m     \u001b[0mcsv_reader\u001b[0m \u001b[0;34m=\u001b[0m \u001b[0mcsv\u001b[0m\u001b[0;34m.\u001b[0m\u001b[0mreader\u001b[0m\u001b[0;34m(\u001b[0m\u001b[0mcsv_file\u001b[0m\u001b[0;34m,\u001b[0m \u001b[0mdelimiter\u001b[0m\u001b[0;34m=\u001b[0m \u001b[0;34m','\u001b[0m\u001b[0;34m)\u001b[0m\u001b[0;34m\u001b[0m\u001b[0;34m\u001b[0m\u001b[0m\n\u001b[1;32m      5\u001b[0m     \u001b[0mmale_deaths\u001b[0m \u001b[0;34m=\u001b[0m \u001b[0;36m0\u001b[0m\u001b[0;34m\u001b[0m\u001b[0;34m\u001b[0m\u001b[0m\n",
      "\u001b[0;31mFileNotFoundError\u001b[0m: [Errno 2] No such file or directory: 'titanic.csv'"
     ]
    }
   ],
   "source": [
    "##ratio of dead men in 1st class\n",
    "\n",
    "with open('titanic.csv')as csv_file:\n",
    "    csv_reader = csv.reader(csv_file, delimiter= ',')\n",
    "    male_deaths = 0\n",
    "    males_in_class = 0\n",
    "    \n",
    "    #itterate over the rows and count dead men in 1st class\n",
    "    for row in csv_reader:\n",
    "        #count all males in class\n",
    "        if row[4] =='male'and row[2] == '1':\n",
    "            males_in_class += 1\n",
    "        # count all dead males in class\n",
    "        if row[4] =='male'and row[2] == '1'and row[1] =='0':\n",
    "            male_deaths += 1\n",
    "            \n",
    "    #print results\n",
    "    print(float(male_deaths/males_in_class))"
   ]
  },
  {
   "cell_type": "code",
   "execution_count": null,
   "metadata": {},
   "outputs": [],
   "source": [
    "def survivors_by_class(pclass):\n",
    "    \"\"\" Function that returns ratio of survivors to total passengers in a given class. \"\"\"\n",
    "    arg_first_class = (df[\"Pclass\"] == pclass)\n",
    "    arg_survived = (df[\"Survived\"] == 1)\n",
    "\n",
    "    # Calculate total for all passengers and survivors\n",
    "    total_first_class = len(df[arg_first_class])\n",
    "    sum_alive_first = len(df[arg_first_class & arg_survived])\n",
    "    return sum_alive_first / total_first_class"
   ]
  },
  {
   "cell_type": "code",
   "execution_count": null,
   "metadata": {},
   "outputs": [],
   "source": [
    "for pclass in range(1, 4):\n",
    "    print(pclass, len(df[(df[\"Pclass\"] == pclass) & (df[\"Survived\"] == 1)]))"
   ]
  },
  {
   "cell_type": "code",
   "execution_count": null,
   "metadata": {
    "scrolled": true
   },
   "outputs": [],
   "source": [
    "for pclass in range(1, 4):\n",
    "    print(\"\\nSURVIVORS-TO-TOTAL RATIO FOR PCLASS {}: \\t{:.2f}%\\n\".format(pclass, 100 * survivors_by_class(pclass)))"
   ]
  },
  {
   "cell_type": "markdown",
   "metadata": {},
   "source": [
    "## _RIGHT_: How many passengers survived given that they are first-class?\n",
    "\n",
    "## _WRONG_: How many passengers survived and are first-class? "
   ]
  },
  {
   "cell_type": "code",
   "execution_count": null,
   "metadata": {},
   "outputs": [],
   "source": [
    "#2) What was the Survival rate of all three classes\n",
    "import pandas as pd\n",
    "\n",
    "df = pd.read_csv(\"titanic.CSV\")\n",
    "#1st class survival rate\n",
    "# df[(df.Pclass == 1)](Sum(df.survived)/count(df)\n",
    "                     \n",
    "# PART 1: Grabbing ratio of survivors to all passengers for single class (df.Pclass == 1)\n",
    "pclass, survived = 1, 1\n",
    "\n",
    "arg_first_class = (df[\"Pclass\"] == pclass)\n",
    "arg_survived = (df[\"Survived\"] == survived)\n",
    "\n",
    "total_first_class = len(df[arg_first_class])\n",
    "sum_alive_first = len(df[arg_first_class & arg_survived])\n",
    "sum_alive_first / total_first_class\n",
    "\n",
    "\n",
    "# PART 2: Wrap P1 within iterable that checks survivor/passenger ratio by class \n",
    "# for pclass in range(1, 4):\n",
    "#     print(pclass)\n",
    " \n",
    "    \n",
    "            \n",
    "##Older then 40 and owns pets\n",
    "# df[(df.age > 40) & (df.num_pets>0)]"
   ]
  },
  {
   "cell_type": "code",
   "execution_count": null,
   "metadata": {},
   "outputs": [],
   "source": [
    "import pandas as pd\n",
    "\n",
    "df = pd.DataFrame(data= {'name':['john', 'mary', 'peter','jeff','bill', 'lisa'], 'age':[23, 78, 22, 19, 45, 33], \n",
    "                         'state': ['iowa', 'dc', 'california', 'texas', 'washington', 'dc'], 'num_children': [2, 2, 0, 1, 2, 1],\n",
    "                        'num_pets' : [0, 4, 0, 5, 0, 0]})\n",
    "df\n",
    "    "
   ]
  },
  {
   "cell_type": "code",
   "execution_count": null,
   "metadata": {},
   "outputs": [],
   "source": [
    "import seaborn as sns\n",
    "\n",
    "sns.barplot(x='Pclass', y='Survived', data=df)"
   ]
  },
  {
   "cell_type": "code",
   "execution_count": null,
   "metadata": {},
   "outputs": [],
   "source": [
    "# Total Survival rate of the Ship\n",
    "\n",
    "df"
   ]
  },
  {
   "cell_type": "code",
   "execution_count": null,
   "metadata": {},
   "outputs": [],
   "source": [
    "total = len(df)\n",
    "sum_alive = len(df[arg_survived])\n",
    "sum_alive / total"
   ]
  },
  {
   "cell_type": "code",
   "execution_count": null,
   "metadata": {},
   "outputs": [],
   "source": []
  }
 ],
 "metadata": {
  "kernelspec": {
   "display_name": "Python 3",
   "language": "python",
   "name": "python3"
  },
  "language_info": {
   "codemirror_mode": {
    "name": "ipython",
    "version": 3
   },
   "file_extension": ".py",
   "mimetype": "text/x-python",
   "name": "python",
   "nbconvert_exporter": "python",
   "pygments_lexer": "ipython3",
   "version": "3.7.1"
  }
 },
 "nbformat": 4,
 "nbformat_minor": 2
}
