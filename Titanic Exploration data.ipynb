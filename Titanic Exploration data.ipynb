{
 "cells": [
  {
   "cell_type": "markdown",
   "metadata": {},
   "source": [
    "#Open CS\n",
    "#create list\n",
    "#run loop in if statement to count all female survivors\n",
    "Print results"
   ]
  },
  {
   "cell_type": "code",
   "execution_count": 46,
   "metadata": {},
   "outputs": [],
   "source": [
    "import matplotlib.pyplot as plt"
   ]
  },
  {
   "cell_type": "code",
   "execution_count": 18,
   "metadata": {},
   "outputs": [
    {
     "name": "stdout",
     "output_type": "stream",
     "text": [
      "233\n"
     ]
    }
   ],
   "source": [
    "import csv\n",
    "\n",
    "with open('titanic.csv')as csv_file:\n",
    "    csv_reader = csv.reader(csv_file, delimiter= ',')\n",
    "    female_survivor = 0\n",
    "    \n",
    "    #itterate over the rows and count surviving women\n",
    "    for row in csv_reader:\n",
    "        if row[4] =='female':\n",
    "            female_survivor += int(row[1])\n",
    "            \n",
    "    #print results\n",
    "    print(female_survivor)\n",
    "            \n",
    "        \n"
   ]
  },
  {
   "cell_type": "code",
   "execution_count": 12,
   "metadata": {},
   "outputs": [],
   "source": [
    "#USing Pandas\n",
    "import pandas as pd\n",
    "\n",
    "#DF == Dataframe\n",
    "df = pd.read_csv(\"titanic.CSV\")"
   ]
  },
  {
   "cell_type": "code",
   "execution_count": 35,
   "metadata": {},
   "outputs": [
    {
     "name": "stdout",
     "output_type": "stream",
     "text": [
      "0.6311475409836066\n"
     ]
    }
   ],
   "source": [
    "##ratio of dead men in 1st class\n",
    "\n",
    "with open('titanic.csv')as csv_file:\n",
    "    csv_reader = csv.reader(csv_file, delimiter= ',')\n",
    "    male_deaths = 0\n",
    "    males_in_class = 0\n",
    "    \n",
    "    #itterate over the rows and count dead men in 1st class\n",
    "    for row in csv_reader:\n",
    "        #count all males in class\n",
    "        if row[4] =='male'and row[2] == '1':\n",
    "            males_in_class += 1\n",
    "        # count all dead males in class\n",
    "        if row[4] =='male'and row[2] == '1'and row[1] =='0':\n",
    "            male_deaths += 1\n",
    "            \n",
    "    #print results\n",
    "    print(float(male_deaths/males_in_class))"
   ]
  },
  {
   "cell_type": "code",
   "execution_count": 32,
   "metadata": {},
   "outputs": [],
   "source": [
    "def survivors_by_class(pclass):\n",
    "    \"\"\" Function that returns ratio of survivors to total passengers in a given class. \"\"\"\n",
    "    arg_first_class = (df[\"Pclass\"] == pclass)\n",
    "    arg_survived = (df[\"Survived\"] == 1)\n",
    "\n",
    "    # Calculate total for all passengers and survivors\n",
    "    total_first_class = len(df[arg_first_class])\n",
    "    sum_alive_first = len(df[arg_first_class & arg_survived])\n",
    "    return sum_alive_first / total_first_class"
   ]
  },
  {
   "cell_type": "code",
   "execution_count": 39,
   "metadata": {},
   "outputs": [
    {
     "name": "stdout",
     "output_type": "stream",
     "text": [
      "1 136\n",
      "2 87\n",
      "3 119\n"
     ]
    }
   ],
   "source": [
    "for pclass in range(1, 4):\n",
    "    print(pclass, len(df[(df[\"Pclass\"] == pclass) & (df[\"Survived\"] == 1)]))"
   ]
  },
  {
   "cell_type": "code",
   "execution_count": 43,
   "metadata": {
    "scrolled": true
   },
   "outputs": [
    {
     "name": "stdout",
     "output_type": "stream",
     "text": [
      "\n",
      "SURVIVORS-TO-TOTAL RATIO FOR PCLASS 1: \t62.96%\n",
      "\n",
      "\n",
      "SURVIVORS-TO-TOTAL RATIO FOR PCLASS 2: \t47.28%\n",
      "\n",
      "\n",
      "SURVIVORS-TO-TOTAL RATIO FOR PCLASS 3: \t24.24%\n",
      "\n"
     ]
    }
   ],
   "source": [
    "for pclass in range(1, 4):\n",
    "    print(\"\\nSURVIVORS-TO-TOTAL RATIO FOR PCLASS {}: \\t{:.2f}%\\n\".format(pclass, 100 * survivors_by_class(pclass)))"
   ]
  },
  {
   "cell_type": "markdown",
   "metadata": {},
   "source": [
    "## _RIGHT_: How many passengers survived given that they are first-class?\n",
    "\n",
    "## _WRONG_: How many passengers survived and are first-class? "
   ]
  },
  {
   "cell_type": "code",
   "execution_count": 45,
   "metadata": {},
   "outputs": [
    {
     "data": {
      "text/plain": [
       "0.6296296296296297"
      ]
     },
     "execution_count": 45,
     "metadata": {},
     "output_type": "execute_result"
    }
   ],
   "source": [
    "#2) What was the Survival rate of all three classes\n",
    "import pandas as pd\n",
    "\n",
    "df = pd.read_csv(\"titanic.CSV\")\n",
    "#1st class survival rate\n",
    "# df[(df.Pclass == 1)](Sum(df.survived)/count(df)\n",
    "                     \n",
    "# PART 1: Grabbing ratio of survivors to all passengers for single class (df.Pclass == 1)\n",
    "pclass, survived = 1, 1\n",
    "\n",
    "arg_first_class = (df[\"Pclass\"] == pclass)\n",
    "arg_survived = (df[\"Survived\"] == survived)\n",
    "\n",
    "total_first_class = len(df[arg_first_class])\n",
    "sum_alive_first = len(df[arg_first_class & arg_survived])\n",
    "sum_alive_first / total_first_class\n",
    "\n",
    "\n",
    "# PART 2: Wrap P1 within iterable that checks survivor/passenger ratio by class \n",
    "# for pclass in range(1, 4):\n",
    "#     print(pclass)\n",
    " \n",
    "    \n",
    "            \n",
    "##Older then 40 and owns pets\n",
    "# df[(df.age > 40) & (df.num_pets>0)]"
   ]
  },
  {
   "cell_type": "code",
   "execution_count": 4,
   "metadata": {},
   "outputs": [
    {
     "data": {
      "text/html": [
       "<div>\n",
       "<style scoped>\n",
       "    .dataframe tbody tr th:only-of-type {\n",
       "        vertical-align: middle;\n",
       "    }\n",
       "\n",
       "    .dataframe tbody tr th {\n",
       "        vertical-align: top;\n",
       "    }\n",
       "\n",
       "    .dataframe thead th {\n",
       "        text-align: right;\n",
       "    }\n",
       "</style>\n",
       "<table border=\"1\" class=\"dataframe\">\n",
       "  <thead>\n",
       "    <tr style=\"text-align: right;\">\n",
       "      <th></th>\n",
       "      <th>name</th>\n",
       "      <th>age</th>\n",
       "      <th>state</th>\n",
       "      <th>num_children</th>\n",
       "      <th>num_pets</th>\n",
       "    </tr>\n",
       "  </thead>\n",
       "  <tbody>\n",
       "    <tr>\n",
       "      <th>0</th>\n",
       "      <td>john</td>\n",
       "      <td>23</td>\n",
       "      <td>iowa</td>\n",
       "      <td>2</td>\n",
       "      <td>0</td>\n",
       "    </tr>\n",
       "    <tr>\n",
       "      <th>1</th>\n",
       "      <td>mary</td>\n",
       "      <td>78</td>\n",
       "      <td>dc</td>\n",
       "      <td>2</td>\n",
       "      <td>4</td>\n",
       "    </tr>\n",
       "    <tr>\n",
       "      <th>2</th>\n",
       "      <td>peter</td>\n",
       "      <td>22</td>\n",
       "      <td>california</td>\n",
       "      <td>0</td>\n",
       "      <td>0</td>\n",
       "    </tr>\n",
       "    <tr>\n",
       "      <th>3</th>\n",
       "      <td>jeff</td>\n",
       "      <td>19</td>\n",
       "      <td>texas</td>\n",
       "      <td>1</td>\n",
       "      <td>5</td>\n",
       "    </tr>\n",
       "    <tr>\n",
       "      <th>4</th>\n",
       "      <td>bill</td>\n",
       "      <td>45</td>\n",
       "      <td>washington</td>\n",
       "      <td>2</td>\n",
       "      <td>0</td>\n",
       "    </tr>\n",
       "    <tr>\n",
       "      <th>5</th>\n",
       "      <td>lisa</td>\n",
       "      <td>33</td>\n",
       "      <td>dc</td>\n",
       "      <td>1</td>\n",
       "      <td>0</td>\n",
       "    </tr>\n",
       "  </tbody>\n",
       "</table>\n",
       "</div>"
      ],
      "text/plain": [
       "    name  age       state  num_children  num_pets\n",
       "0   john   23        iowa             2         0\n",
       "1   mary   78          dc             2         4\n",
       "2  peter   22  california             0         0\n",
       "3   jeff   19       texas             1         5\n",
       "4   bill   45  washington             2         0\n",
       "5   lisa   33          dc             1         0"
      ]
     },
     "execution_count": 4,
     "metadata": {},
     "output_type": "execute_result"
    }
   ],
   "source": [
    "import pandas as pd\n",
    "\n",
    "df = pd.DataFrame(data= {'name':['john', 'mary', 'peter','jeff','bill', 'lisa'], 'age':[23, 78, 22, 19, 45, 33], \n",
    "                         'state': ['iowa', 'dc', 'california', 'texas', 'washington', 'dc'], 'num_children': [2, 2, 0, 1, 2, 1],\n",
    "                        'num_pets' : [0, 4, 0, 5, 0, 0]})\n",
    "df\n",
    "    "
   ]
  },
  {
   "cell_type": "code",
   "execution_count": 57,
   "metadata": {},
   "outputs": [
    {
     "name": "stderr",
     "output_type": "stream",
     "text": [
      "/anaconda3/lib/python3.7/site-packages/scipy/stats/stats.py:1713: FutureWarning: Using a non-tuple sequence for multidimensional indexing is deprecated; use `arr[tuple(seq)]` instead of `arr[seq]`. In the future this will be interpreted as an array index, `arr[np.array(seq)]`, which will result either in an error or a different result.\n",
      "  return np.add.reduce(sorted[indexer] * weights, axis=axis) / sumval\n"
     ]
    },
    {
     "data": {
      "text/plain": [
       "<matplotlib.axes._subplots.AxesSubplot at 0x1a24b8ee48>"
      ]
     },
     "execution_count": 57,
     "metadata": {},
     "output_type": "execute_result"
    },
    {
     "data": {
      "image/png": "[encoded data removed]",
      "text/plain": [
       "<Figure size 432x288 with 1 Axes>"
      ]
     },
     "metadata": {
      "needs_background": "light"
     },
     "output_type": "display_data"
    }
   ],
   "source": [
    "import seaborn as sns\n",
    "\n",
    "sns.barplot(x='Pclass', y='Survived', data=df)"
   ]
  },
  {
   "cell_type": "code",
   "execution_count": null,
   "metadata": {},
   "outputs": [],
   "source": []
  }
 ],
 "metadata": {
  "kernelspec": {
   "display_name": "Python 3",
   "language": "python",
   "name": "python3"
  },
  "language_info": {
   "codemirror_mode": {
    "name": "ipython",
    "version": 3
   },
   "file_extension": ".py",
   "mimetype": "text/x-python",
   "name": "python",
   "nbconvert_exporter": "python",
   "pygments_lexer": "ipython3",
   "version": "3.7.1"
  }
 },
 "nbformat": 4,
 "nbformat_minor": 2
}
